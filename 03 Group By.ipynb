{
 "cells": [
  {
   "cell_type": "markdown",
   "metadata": {},
   "source": [
    "# Ex - GroupBy"
   ]
  },
  {
   "cell_type": "markdown",
   "metadata": {},
   "source": [
    "### Introduction:\n",
    "\n",
    "GroupBy can be summarized as Split-Apply-Combine.\n",
    "\n",
    "Special thanks to: https://github.com/justmarkham for sharing the dataset and materials.\n",
    "\n",
    "Check out this [Diagram](http://i.imgur.com/yjNkiwL.png)  \n",
    "### Step 1. Import the necessary libraries"
   ]
  },
  {
   "cell_type": "code",
   "execution_count": null,
   "metadata": {},
   "outputs": [],
   "source": [
    "import pandas as pd\n",
    "import numpy as np"
   ]
  },
  {
   "cell_type": "markdown",
   "metadata": {},
   "source": [
    "### Step 2. Import the dataset from this [address](https://raw.githubusercontent.com/justmarkham/DAT8/master/data/drinks.csv). "
   ]
  },
  {
   "cell_type": "markdown",
   "metadata": {},
   "source": [
    "### Step 3. Assign it to a variable called drinks."
   ]
  },
  {
   "cell_type": "code",
   "execution_count": 1,
   "metadata": {},
   "outputs": [
    {
     "name": "stdout",
     "output_type": "stream",
     "text": [
      "         country  beer_servings  spirit_servings  wine_servings  \\\n",
      "0    Afghanistan              0                0              0   \n",
      "1        Albania             89              132             54   \n",
      "2        Algeria             25                0             14   \n",
      "3        Andorra            245              138            312   \n",
      "4         Angola            217               57             45   \n",
      "..           ...            ...              ...            ...   \n",
      "188    Venezuela            333              100              3   \n",
      "189      Vietnam            111                2              1   \n",
      "190        Yemen              6                0              0   \n",
      "191       Zambia             32               19              4   \n",
      "192     Zimbabwe             64               18              4   \n",
      "\n",
      "     total_litres_of_pure_alcohol continent  \n",
      "0                             0.0        AS  \n",
      "1                             4.9        EU  \n",
      "2                             0.7        AF  \n",
      "3                            12.4        EU  \n",
      "4                             5.9        AF  \n",
      "..                            ...       ...  \n",
      "188                           7.7        SA  \n",
      "189                           2.0        AS  \n",
      "190                           0.1        AS  \n",
      "191                           2.5        AF  \n",
      "192                           4.7        AF  \n",
      "\n",
      "[193 rows x 6 columns]\n"
     ]
    }
   ],
   "source": [
    "import pandas as pd\n",
    "import numpy as np\n",
    "\n",
    "df = pd.read_csv(r'C:\\\\Users\\\\oyuel\\\\Downloads\\\\drinks.csv')\n",
    "print(df)"
   ]
  },
  {
   "cell_type": "markdown",
   "metadata": {},
   "source": [
    "### Step 4. Which continent drinks more beer on average?"
   ]
  },
  {
   "cell_type": "code",
   "execution_count": 5,
   "metadata": {},
   "outputs": [
    {
     "name": "stdout",
     "output_type": "stream",
     "text": [
      "EU\n"
     ]
    }
   ],
   "source": [
    "#Importing necessary libraries\n",
    "import pandas as pd\n",
    "import numpy as np\n",
    "\n",
    "#Importing data set\n",
    "df = pd.read_csv(r'C:\\\\Users\\\\oyuel\\\\Downloads\\\\drinks.csv')\n",
    "\n",
    "#Grouping by continent and calculating average beer servings\n",
    "averageBeer = df.groupby('continent')['beer_servings'].mean()\n",
    "\n",
    "#Finding the highest average\n",
    "highestMean = averageBeer.idxmax()\n",
    "\n",
    "#Print continent with highest beer average\n",
    "print(highestMean)"
   ]
  },
  {
   "cell_type": "markdown",
   "metadata": {},
   "source": [
    "### Step 5. For each continent print the statistics for wine consumption."
   ]
  },
  {
   "cell_type": "code",
   "execution_count": 9,
   "metadata": {},
   "outputs": [
    {
     "name": "stdout",
     "output_type": "stream",
     "text": [
      "AF : 16.264150943396228\n",
      "AS : 9.068181818181818\n",
      "EU : 142.22222222222223\n",
      "OC : 35.625\n",
      "SA : 62.416666666666664\n"
     ]
    }
   ],
   "source": [
    "#Importing necessary libraries\n",
    "import pandas as pd\n",
    "import numpy as np\n",
    "\n",
    "#Importing data set\n",
    "df = pd.read_csv(r'C:\\\\Users\\\\oyuel\\\\Downloads\\\\drinks.csv')\n",
    "\n",
    "#Grouping by continent and calculating average wine servings\n",
    "averageWine = df.groupby('continent')['wine_servings'].mean()\n",
    "\n",
    "#Iterate through the continent category and return the average wine consumption\n",
    "for continent, average in averageWine.items():\n",
    "    print(continent,':', average)"
   ]
  },
  {
   "cell_type": "markdown",
   "metadata": {},
   "source": [
    "### Step 6. Print the mean alcohol consumption per continent for every column"
   ]
  },
  {
   "cell_type": "code",
   "execution_count": 11,
   "metadata": {},
   "outputs": [
    {
     "name": "stdout",
     "output_type": "stream",
     "text": [
      "The following is the average consumption of alcohol in liters by continent.\n",
      "AF : 3.0075471698113208\n",
      "AS : 2.1704545454545454\n",
      "EU : 8.617777777777778\n",
      "OC : 3.38125\n",
      "SA : 6.308333333333334\n"
     ]
    }
   ],
   "source": [
    "#Importing necessary libraries\n",
    "import pandas as pd\n",
    "import numpy as np\n",
    "\n",
    "#Importing data set\n",
    "df = pd.read_csv(r'C:\\\\Users\\\\oyuel\\\\Downloads\\\\drinks.csv')\n",
    "\n",
    "#Grouping by continent and calculating average alcohol consumption\n",
    "averageCons = df.groupby('continent')['total_litres_of_pure_alcohol'].mean()\n",
    "\n",
    "#Print a statement that explains the data that is about to be presented\n",
    "print('The following is the average consumption of alcohol in liters by continent.')\n",
    "\n",
    "#Iterate through the continent category and return the average wine consumption\n",
    "for continent, average in averageCons.items():\n",
    "    print(continent,':', average)"
   ]
  },
  {
   "cell_type": "markdown",
   "metadata": {},
   "source": [
    "### Step 7. Print the median alcohol consumption per continent for every column"
   ]
  },
  {
   "cell_type": "code",
   "execution_count": 12,
   "metadata": {},
   "outputs": [
    {
     "name": "stdout",
     "output_type": "stream",
     "text": [
      "The following is the median consumption of alcohol in liters by continent.\n",
      "AF : 2.3\n",
      "AS : 1.2\n",
      "EU : 10.0\n",
      "OC : 1.75\n",
      "SA : 6.85\n"
     ]
    }
   ],
   "source": [
    "#Importing necessary libraries\n",
    "import pandas as pd\n",
    "import numpy as np\n",
    "\n",
    "#Importing data set\n",
    "df = pd.read_csv(r'C:\\\\Users\\\\oyuel\\\\Downloads\\\\drinks.csv')\n",
    "\n",
    "#Grouping by continent and calculating average alcohol consumption\n",
    "medianCons = df.groupby('continent')['total_litres_of_pure_alcohol'].median()\n",
    "\n",
    "#Print a statement that explains the data that is about to be presented\n",
    "print('The following is the median consumption of alcohol in liters by continent.')\n",
    "\n",
    "#Iterate through the continent category and return the average wine consumption\n",
    "for continent, median in medianCons.items():\n",
    "    print(continent,':', median)"
   ]
  },
  {
   "cell_type": "markdown",
   "metadata": {},
   "source": [
    "### Step 8. Print the mean, min and max values for spirit consumption.\n",
    "#### This time output a DataFrame"
   ]
  },
  {
   "cell_type": "code",
   "execution_count": 13,
   "metadata": {},
   "outputs": [
    {
     "name": "stdout",
     "output_type": "stream",
     "text": [
      "The following are statistics for spirit consumption.\n",
      "Median alcohol consumption by continent\n",
      "AF : 3.0\n",
      "AS : 16.0\n",
      "EU : 122.0\n",
      "OC : 37.0\n",
      "SA : 108.5\n",
      "Mean spirit consumption by continent\n",
      "AF : 16.339622641509433\n",
      "AS : 60.84090909090909\n",
      "EU : 132.55555555555554\n",
      "OC : 58.4375\n",
      "SA : 114.75\n",
      "The following continent has the least spirit consumption: <bound method Series.idxmin of continent\n",
      "AF     0\n",
      "AS     0\n",
      "EU     0\n",
      "OC     0\n",
      "SA    25\n",
      "Name: spirit_servings, dtype: int64>\n",
      "The following continent has the most spirit consumption: <bound method Series.idxmax of continent\n",
      "AF    152\n",
      "AS    326\n",
      "EU    373\n",
      "OC    254\n",
      "SA    302\n",
      "Name: spirit_servings, dtype: int64>\n"
     ]
    }
   ],
   "source": [
    "#Importing necessary libraries\n",
    "import pandas as pd\n",
    "import numpy as np\n",
    "\n",
    "#Importing data set\n",
    "df = pd.read_csv(r'C:\\\\Users\\\\oyuel\\\\Downloads\\\\drinks.csv')\n",
    "\n",
    "#Grouping by continent and calculating statistics on spirit consumption\n",
    "medianCons = df.groupby('continent')['spirit_servings'].median()\n",
    "meanCons = df.groupby('continent')['spirit_servings'].mean()\n",
    "minCons = df.groupby('continent')['spirit_servings'].min()\n",
    "maxCons = df.groupby('continent')['spirit_servings'].max()\n",
    "\n",
    "#Print a statement that explains the data that is about to be presented\n",
    "print('The following are statistics for spirit consumption.')\n",
    "\n",
    "#Iterate through the continent category and return statistics\n",
    "print('Median alcohol consumption by continent')\n",
    "for continent, median in medianCons.items():\n",
    "    print(continent,':', median)\n",
    "    \n",
    "print('Mean spirit consumption by continent')\n",
    "for continent, mean in meanCons.items():\n",
    "    print(continent, ':', mean)\n",
    "\n",
    "print('The following continent has the least spirit consumption:', minCons.idxmin)\n",
    "\n",
    "print('The following continent has the most spirit consumption:', maxCons.idxmax)"
   ]
  }
 ],
 "metadata": {
  "kernelspec": {
   "display_name": "Python 3 (ipykernel)",
   "language": "python",
   "name": "python3"
  },
  "language_info": {
   "codemirror_mode": {
    "name": "ipython",
    "version": 3
   },
   "file_extension": ".py",
   "mimetype": "text/x-python",
   "name": "python",
   "nbconvert_exporter": "python",
   "pygments_lexer": "ipython3",
   "version": "3.10.9"
  }
 },
 "nbformat": 4,
 "nbformat_minor": 1
}
